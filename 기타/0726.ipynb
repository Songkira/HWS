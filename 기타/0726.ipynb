{
 "cells": [
  {
   "cell_type": "code",
   "execution_count": null,
   "id": "66059639",
   "metadata": {},
   "outputs": [],
   "source": [
    "# 문자열 - 순서가 있음(sequence), iterable, immutable(불변형)\n",
    "# 리스트 - 순서가 있음(sequence), iterable, mutable\n",
    "# 튜플 - 순서가 있음(sequence), iterable, immutable(불변형)\n",
    "# 셋 - 순서가 없음(non-sequence), iterable, mutable\n",
    "# 딕셔너리 - 순서가 없음(non-sequence), iterable, mutable(가변형)\n",
    "    # {key: value} => key:immutable, value => 모두 가능\n",
    "# for 문 in () = 에 넣을 수 있으면 iterable"
   ]
  },
  {
   "cell_type": "code",
   "execution_count": 7,
   "id": "2fabc49e",
   "metadata": {
    "scrolled": false
   },
   "outputs": [
    {
     "data": {
      "text/plain": [
       "'1-2-3'"
      ]
     },
     "execution_count": 7,
     "metadata": {},
     "output_type": "execute_result"
    }
   ],
   "source": [
    "# 문자열, 리스트, 셋, 딕셔너리\n",
    "# 1. 생성\n",
    "# 2. 조회/탐색\n",
    "# 3. 수정/추가/삭제\n",
    "# 4. 정렬\n",
    "\n",
    "# '-'.join('abcde')\n",
    "# '-'.join(['aa','bb','xx'])\n",
    "# '-'.join({'aaa','bbb','xxx'}) -> set 은 순서 x\n",
    "\n",
    "# '-'.join([1, 2, 3]) #-> 문자열이 아니라서 iternable이지만 안됨\n",
    "# TypeError: sequence item 0: expected str instance, int found\n",
    "# '-'.join(map(str, [1, 2, 3])) # '1-2-3'"
   ]
  },
  {
   "cell_type": "code",
   "execution_count": null,
   "id": "a0efb68c",
   "metadata": {},
   "outputs": [],
   "source": []
  },
  {
   "cell_type": "code",
   "execution_count": null,
   "id": "e03bbc3a",
   "metadata": {},
   "outputs": [],
   "source": []
  },
  {
   "cell_type": "code",
   "execution_count": null,
   "id": "e71dbb5e",
   "metadata": {},
   "outputs": [],
   "source": []
  },
  {
   "cell_type": "code",
   "execution_count": null,
   "id": "09062caf",
   "metadata": {},
   "outputs": [],
   "source": []
  },
  {
   "cell_type": "code",
   "execution_count": null,
   "id": "176686a4",
   "metadata": {},
   "outputs": [],
   "source": []
  },
  {
   "cell_type": "code",
   "execution_count": null,
   "id": "818cc066",
   "metadata": {},
   "outputs": [],
   "source": []
  },
  {
   "cell_type": "code",
   "execution_count": null,
   "id": "291d4280",
   "metadata": {},
   "outputs": [],
   "source": []
  }
 ],
 "metadata": {
  "kernelspec": {
   "display_name": "Python 3 (ipykernel)",
   "language": "python",
   "name": "python3"
  },
  "language_info": {
   "codemirror_mode": {
    "name": "ipython",
    "version": 3
   },
   "file_extension": ".py",
   "mimetype": "text/x-python",
   "name": "python",
   "nbconvert_exporter": "python",
   "pygments_lexer": "ipython3",
   "version": "3.9.13"
  },
  "toc": {
   "base_numbering": 1,
   "nav_menu": {},
   "number_sections": true,
   "sideBar": true,
   "skip_h1_title": false,
   "title_cell": "Table of Contents",
   "title_sidebar": "Contents",
   "toc_cell": false,
   "toc_position": {},
   "toc_section_display": true,
   "toc_window_display": false
  }
 },
 "nbformat": 4,
 "nbformat_minor": 5
}
